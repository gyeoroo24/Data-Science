{
 "cells": [
  {
   "cell_type": "code",
   "execution_count": 5,
   "metadata": {},
   "outputs": [
    {
     "name": "stdout",
     "output_type": "stream",
     "text": [
      "US\n"
     ]
    }
   ],
   "source": [
    "#import necessary libraries\n",
    "import numpy as np\n",
    "\n",
    "#Dataset from Summer Olmpics London , year 2012\n",
    "np_olympic_country = np.array(['GBR','CHN','RUS','US','KOR','JPN','GER'])\n",
    "np_olympic_country_Gold = np.array([29,38,24,46,13,7,11])\n",
    "np_olympic_country_Silver = np.array([17,28,25,28,8,14,11])\n",
    "np_olympic_country_Bronze = np.array([19,22,32,29,7,17,14])\n",
    "\n",
    "max_gold_index = np_olympic_country_Gold.argmax()\n",
    "country_with_max_gold = np_olympic_country[max_gold_index]\n",
    "#Find country index with maximum gold\n",
    "print(country_with_max_gold)"
   ]
  },
  {
   "cell_type": "code",
   "execution_count": 6,
   "metadata": {},
   "outputs": [
    {
     "name": "stdout",
     "output_type": "stream",
     "text": [
      "['GBR' 'CHN' 'RUS' 'US']\n"
     ]
    }
   ],
   "source": [
    "#Find Countries with More than 20 medals\n",
    "print(np_olympic_country[np_olympic_country_Gold>20])"
   ]
  },
  {
   "cell_type": "code",
   "execution_count": 10,
   "metadata": {},
   "outputs": [
    {
     "name": "stdout",
     "output_type": "stream",
     "text": [
      "GBR , Gold Medal 29 , Total no. of medals 65\n",
      "CHN , Gold Medal 38 , Total no. of medals 88\n",
      "RUS , Gold Medal 24 , Total no. of medals 81\n",
      "US , Gold Medal 46 , Total no. of medals 103\n",
      "KOR , Gold Medal 13 , Total no. of medals 28\n",
      "JPN , Gold Medal 7 , Total no. of medals 38\n",
      "GER , Gold Medal 11 , Total no. of medals 36\n"
     ]
    }
   ],
   "source": [
    "#print each country name with number of medals\n",
    "#print each country name with total number of medals\n",
    "for i in range(len(np_olympic_country)):\n",
    "    country = np_olympic_country[i]\n",
    "    Gold = np_olympic_country_Gold[i]\n",
    "    total = np_olympic_country_Gold[i] + np_olympic_country_Silver[i] + np_olympic_country_Bronze[i]\n",
    "    print('{} , Gold Medal {} , Total no. of medals {}'.format(country,Gold,total))"
   ]
  },
  {
   "cell_type": "code",
   "execution_count": null,
   "metadata": {},
   "outputs": [],
   "source": []
  }
 ],
 "metadata": {
  "kernelspec": {
   "display_name": "Python 3",
   "language": "python",
   "name": "python3"
  },
  "language_info": {
   "codemirror_mode": {
    "name": "ipython",
    "version": 3
   },
   "file_extension": ".py",
   "mimetype": "text/x-python",
   "name": "python",
   "nbconvert_exporter": "python",
   "pygments_lexer": "ipython3",
   "version": "3.8.5"
  }
 },
 "nbformat": 4,
 "nbformat_minor": 4
}
